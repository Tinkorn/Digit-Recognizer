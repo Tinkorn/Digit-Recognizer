{
 "cells": [
  {
   "cell_type": "code",
   "execution_count": 1,
   "id": "af02968b",
   "metadata": {
    "execution": {
     "iopub.execute_input": "2023-01-03T12:12:05.872270Z",
     "iopub.status.busy": "2023-01-03T12:12:05.871709Z",
     "iopub.status.idle": "2023-01-03T12:12:12.192504Z",
     "shell.execute_reply": "2023-01-03T12:12:12.191519Z"
    },
    "papermill": {
     "duration": 6.329842,
     "end_time": "2023-01-03T12:12:12.194990",
     "exception": false,
     "start_time": "2023-01-03T12:12:05.865148",
     "status": "completed"
    },
    "tags": []
   },
   "outputs": [],
   "source": [
    "import pandas as pd\n",
    "import numpy as np\n",
    "import matplotlib.pyplot as plt\n",
    "from tensorflow.keras.models import load_model\n",
    "import cv2\n",
    "from tensorflow.keras import Sequential\n",
    "from tensorflow.keras.layers import MaxPooling2D,AveragePooling2D,Dense,Conv2D,Flatten,Dropout\n",
    "from tensorflow.keras.optimizers import SGD,Adam\n",
    "import seaborn as sns"
   ]
  },
  {
   "cell_type": "code",
   "execution_count": 2,
   "id": "beae755e",
   "metadata": {
    "execution": {
     "iopub.execute_input": "2023-01-03T12:12:12.203591Z",
     "iopub.status.busy": "2023-01-03T12:12:12.203037Z",
     "iopub.status.idle": "2023-01-03T12:12:15.377362Z",
     "shell.execute_reply": "2023-01-03T12:12:15.376453Z"
    },
    "papermill": {
     "duration": 3.18055,
     "end_time": "2023-01-03T12:12:15.379381",
     "exception": false,
     "start_time": "2023-01-03T12:12:12.198831",
     "status": "completed"
    },
    "tags": []
   },
   "outputs": [
    {
     "data": {
      "text/html": [
       "<div>\n",
       "<style scoped>\n",
       "    .dataframe tbody tr th:only-of-type {\n",
       "        vertical-align: middle;\n",
       "    }\n",
       "\n",
       "    .dataframe tbody tr th {\n",
       "        vertical-align: top;\n",
       "    }\n",
       "\n",
       "    .dataframe thead th {\n",
       "        text-align: right;\n",
       "    }\n",
       "</style>\n",
       "<table border=\"1\" class=\"dataframe\">\n",
       "  <thead>\n",
       "    <tr style=\"text-align: right;\">\n",
       "      <th></th>\n",
       "      <th>label</th>\n",
       "      <th>pixel0</th>\n",
       "      <th>pixel1</th>\n",
       "      <th>pixel2</th>\n",
       "      <th>pixel3</th>\n",
       "      <th>pixel4</th>\n",
       "      <th>pixel5</th>\n",
       "      <th>pixel6</th>\n",
       "      <th>pixel7</th>\n",
       "      <th>pixel8</th>\n",
       "      <th>...</th>\n",
       "      <th>pixel774</th>\n",
       "      <th>pixel775</th>\n",
       "      <th>pixel776</th>\n",
       "      <th>pixel777</th>\n",
       "      <th>pixel778</th>\n",
       "      <th>pixel779</th>\n",
       "      <th>pixel780</th>\n",
       "      <th>pixel781</th>\n",
       "      <th>pixel782</th>\n",
       "      <th>pixel783</th>\n",
       "    </tr>\n",
       "  </thead>\n",
       "  <tbody>\n",
       "    <tr>\n",
       "      <th>0</th>\n",
       "      <td>1</td>\n",
       "      <td>0</td>\n",
       "      <td>0</td>\n",
       "      <td>0</td>\n",
       "      <td>0</td>\n",
       "      <td>0</td>\n",
       "      <td>0</td>\n",
       "      <td>0</td>\n",
       "      <td>0</td>\n",
       "      <td>0</td>\n",
       "      <td>...</td>\n",
       "      <td>0</td>\n",
       "      <td>0</td>\n",
       "      <td>0</td>\n",
       "      <td>0</td>\n",
       "      <td>0</td>\n",
       "      <td>0</td>\n",
       "      <td>0</td>\n",
       "      <td>0</td>\n",
       "      <td>0</td>\n",
       "      <td>0</td>\n",
       "    </tr>\n",
       "    <tr>\n",
       "      <th>1</th>\n",
       "      <td>0</td>\n",
       "      <td>0</td>\n",
       "      <td>0</td>\n",
       "      <td>0</td>\n",
       "      <td>0</td>\n",
       "      <td>0</td>\n",
       "      <td>0</td>\n",
       "      <td>0</td>\n",
       "      <td>0</td>\n",
       "      <td>0</td>\n",
       "      <td>...</td>\n",
       "      <td>0</td>\n",
       "      <td>0</td>\n",
       "      <td>0</td>\n",
       "      <td>0</td>\n",
       "      <td>0</td>\n",
       "      <td>0</td>\n",
       "      <td>0</td>\n",
       "      <td>0</td>\n",
       "      <td>0</td>\n",
       "      <td>0</td>\n",
       "    </tr>\n",
       "    <tr>\n",
       "      <th>2</th>\n",
       "      <td>1</td>\n",
       "      <td>0</td>\n",
       "      <td>0</td>\n",
       "      <td>0</td>\n",
       "      <td>0</td>\n",
       "      <td>0</td>\n",
       "      <td>0</td>\n",
       "      <td>0</td>\n",
       "      <td>0</td>\n",
       "      <td>0</td>\n",
       "      <td>...</td>\n",
       "      <td>0</td>\n",
       "      <td>0</td>\n",
       "      <td>0</td>\n",
       "      <td>0</td>\n",
       "      <td>0</td>\n",
       "      <td>0</td>\n",
       "      <td>0</td>\n",
       "      <td>0</td>\n",
       "      <td>0</td>\n",
       "      <td>0</td>\n",
       "    </tr>\n",
       "    <tr>\n",
       "      <th>3</th>\n",
       "      <td>4</td>\n",
       "      <td>0</td>\n",
       "      <td>0</td>\n",
       "      <td>0</td>\n",
       "      <td>0</td>\n",
       "      <td>0</td>\n",
       "      <td>0</td>\n",
       "      <td>0</td>\n",
       "      <td>0</td>\n",
       "      <td>0</td>\n",
       "      <td>...</td>\n",
       "      <td>0</td>\n",
       "      <td>0</td>\n",
       "      <td>0</td>\n",
       "      <td>0</td>\n",
       "      <td>0</td>\n",
       "      <td>0</td>\n",
       "      <td>0</td>\n",
       "      <td>0</td>\n",
       "      <td>0</td>\n",
       "      <td>0</td>\n",
       "    </tr>\n",
       "    <tr>\n",
       "      <th>4</th>\n",
       "      <td>0</td>\n",
       "      <td>0</td>\n",
       "      <td>0</td>\n",
       "      <td>0</td>\n",
       "      <td>0</td>\n",
       "      <td>0</td>\n",
       "      <td>0</td>\n",
       "      <td>0</td>\n",
       "      <td>0</td>\n",
       "      <td>0</td>\n",
       "      <td>...</td>\n",
       "      <td>0</td>\n",
       "      <td>0</td>\n",
       "      <td>0</td>\n",
       "      <td>0</td>\n",
       "      <td>0</td>\n",
       "      <td>0</td>\n",
       "      <td>0</td>\n",
       "      <td>0</td>\n",
       "      <td>0</td>\n",
       "      <td>0</td>\n",
       "    </tr>\n",
       "  </tbody>\n",
       "</table>\n",
       "<p>5 rows × 785 columns</p>\n",
       "</div>"
      ],
      "text/plain": [
       "   label  pixel0  pixel1  pixel2  pixel3  pixel4  pixel5  pixel6  pixel7  \\\n",
       "0      1       0       0       0       0       0       0       0       0   \n",
       "1      0       0       0       0       0       0       0       0       0   \n",
       "2      1       0       0       0       0       0       0       0       0   \n",
       "3      4       0       0       0       0       0       0       0       0   \n",
       "4      0       0       0       0       0       0       0       0       0   \n",
       "\n",
       "   pixel8  ...  pixel774  pixel775  pixel776  pixel777  pixel778  pixel779  \\\n",
       "0       0  ...         0         0         0         0         0         0   \n",
       "1       0  ...         0         0         0         0         0         0   \n",
       "2       0  ...         0         0         0         0         0         0   \n",
       "3       0  ...         0         0         0         0         0         0   \n",
       "4       0  ...         0         0         0         0         0         0   \n",
       "\n",
       "   pixel780  pixel781  pixel782  pixel783  \n",
       "0         0         0         0         0  \n",
       "1         0         0         0         0  \n",
       "2         0         0         0         0  \n",
       "3         0         0         0         0  \n",
       "4         0         0         0         0  \n",
       "\n",
       "[5 rows x 785 columns]"
      ]
     },
     "execution_count": 2,
     "metadata": {},
     "output_type": "execute_result"
    }
   ],
   "source": [
    "data=pd.read_csv('/kaggle/input/digit-recognizer/train.csv')\n",
    "data.head()"
   ]
  },
  {
   "cell_type": "code",
   "execution_count": 3,
   "id": "cbf72449",
   "metadata": {
    "execution": {
     "iopub.execute_input": "2023-01-03T12:12:15.389530Z",
     "iopub.status.busy": "2023-01-03T12:12:15.387999Z",
     "iopub.status.idle": "2023-01-03T12:12:15.476933Z",
     "shell.execute_reply": "2023-01-03T12:12:15.475618Z"
    },
    "papermill": {
     "duration": 0.096056,
     "end_time": "2023-01-03T12:12:15.479535",
     "exception": false,
     "start_time": "2023-01-03T12:12:15.383479",
     "status": "completed"
    },
    "tags": []
   },
   "outputs": [
    {
     "name": "stdout",
     "output_type": "stream",
     "text": [
      "(42000, 784)\n",
      "(42000,)\n"
     ]
    }
   ],
   "source": [
    "x=data.drop('label',axis=1)\n",
    "y=data.label\n",
    "print(x.shape)\n",
    "print(y.shape)\n"
   ]
  },
  {
   "cell_type": "code",
   "execution_count": 4,
   "id": "ef1e79a2",
   "metadata": {
    "execution": {
     "iopub.execute_input": "2023-01-03T12:12:15.488620Z",
     "iopub.status.busy": "2023-01-03T12:12:15.488281Z",
     "iopub.status.idle": "2023-01-03T12:12:15.685305Z",
     "shell.execute_reply": "2023-01-03T12:12:15.684183Z"
    },
    "papermill": {
     "duration": 0.205446,
     "end_time": "2023-01-03T12:12:15.689111",
     "exception": false,
     "start_time": "2023-01-03T12:12:15.483665",
     "status": "completed"
    },
    "tags": []
   },
   "outputs": [
    {
     "name": "stdout",
     "output_type": "stream",
     "text": [
      "(784,)\n"
     ]
    }
   ],
   "source": [
    "x=np.array(x/255.0)\n",
    "print(x[0].shape)\n",
    "x=x.reshape(-1,28,28,1)"
   ]
  },
  {
   "cell_type": "code",
   "execution_count": 5,
   "id": "edf4cc37",
   "metadata": {
    "execution": {
     "iopub.execute_input": "2023-01-03T12:12:15.706660Z",
     "iopub.status.busy": "2023-01-03T12:12:15.706312Z",
     "iopub.status.idle": "2023-01-03T12:12:16.251391Z",
     "shell.execute_reply": "2023-01-03T12:12:16.249267Z"
    },
    "papermill": {
     "duration": 0.55378,
     "end_time": "2023-01-03T12:12:16.254152",
     "exception": false,
     "start_time": "2023-01-03T12:12:15.700372",
     "status": "completed"
    },
    "tags": []
   },
   "outputs": [
    {
     "name": "stdout",
     "output_type": "stream",
     "text": [
      "(33600, 28, 28, 1)\n",
      "(8400, 28, 28, 1)\n",
      "(33600,)\n",
      "(8400,)\n"
     ]
    }
   ],
   "source": [
    "from sklearn.model_selection import train_test_split\n",
    "x_train,x_test,y_train,y_test = train_test_split(x,y,test_size=0.2,random_state=1)\n",
    "print(x_train.shape)\n",
    "print(x_test.shape)\n",
    "print(y_train.shape)\n",
    "print(y_test.shape)"
   ]
  },
  {
   "cell_type": "code",
   "execution_count": 6,
   "id": "0ecdddef",
   "metadata": {
    "execution": {
     "iopub.execute_input": "2023-01-03T12:12:16.265298Z",
     "iopub.status.busy": "2023-01-03T12:12:16.263525Z",
     "iopub.status.idle": "2023-01-03T12:12:19.113939Z",
     "shell.execute_reply": "2023-01-03T12:12:19.112143Z"
    },
    "papermill": {
     "duration": 2.858013,
     "end_time": "2023-01-03T12:12:19.116554",
     "exception": false,
     "start_time": "2023-01-03T12:12:16.258541",
     "status": "completed"
    },
    "tags": []
   },
   "outputs": [
    {
     "name": "stdout",
     "output_type": "stream",
     "text": [
      "Model: \"sequential\"\n",
      "_________________________________________________________________\n",
      "Layer (type)                 Output Shape              Param #   \n",
      "=================================================================\n",
      "conv2d (Conv2D)              (None, 26, 26, 32)        320       \n",
      "_________________________________________________________________\n",
      "max_pooling2d (MaxPooling2D) (None, 13, 13, 32)        0         \n",
      "_________________________________________________________________\n",
      "conv2d_1 (Conv2D)            (None, 11, 11, 64)        18496     \n",
      "_________________________________________________________________\n",
      "max_pooling2d_1 (MaxPooling2 (None, 5, 5, 64)          0         \n",
      "_________________________________________________________________\n",
      "flatten (Flatten)            (None, 1600)              0         \n",
      "_________________________________________________________________\n",
      "dropout (Dropout)            (None, 1600)              0         \n",
      "_________________________________________________________________\n",
      "dense (Dense)                (None, 128)               204928    \n",
      "_________________________________________________________________\n",
      "dropout_1 (Dropout)          (None, 128)               0         \n",
      "_________________________________________________________________\n",
      "dense_1 (Dense)              (None, 10)                1290      \n",
      "=================================================================\n",
      "Total params: 225,034\n",
      "Trainable params: 225,034\n",
      "Non-trainable params: 0\n",
      "_________________________________________________________________\n"
     ]
    },
    {
     "name": "stderr",
     "output_type": "stream",
     "text": [
      "2023-01-03 12:12:16.359535: I tensorflow/stream_executor/cuda/cuda_gpu_executor.cc:937] successful NUMA node read from SysFS had negative value (-1), but there must be at least one NUMA node, so returning NUMA node zero\n",
      "2023-01-03 12:12:16.454694: I tensorflow/stream_executor/cuda/cuda_gpu_executor.cc:937] successful NUMA node read from SysFS had negative value (-1), but there must be at least one NUMA node, so returning NUMA node zero\n",
      "2023-01-03 12:12:16.455539: I tensorflow/stream_executor/cuda/cuda_gpu_executor.cc:937] successful NUMA node read from SysFS had negative value (-1), but there must be at least one NUMA node, so returning NUMA node zero\n",
      "2023-01-03 12:12:16.457011: I tensorflow/core/platform/cpu_feature_guard.cc:142] This TensorFlow binary is optimized with oneAPI Deep Neural Network Library (oneDNN) to use the following CPU instructions in performance-critical operations:  AVX2 AVX512F FMA\n",
      "To enable them in other operations, rebuild TensorFlow with the appropriate compiler flags.\n",
      "2023-01-03 12:12:16.457394: I tensorflow/stream_executor/cuda/cuda_gpu_executor.cc:937] successful NUMA node read from SysFS had negative value (-1), but there must be at least one NUMA node, so returning NUMA node zero\n",
      "2023-01-03 12:12:16.458368: I tensorflow/stream_executor/cuda/cuda_gpu_executor.cc:937] successful NUMA node read from SysFS had negative value (-1), but there must be at least one NUMA node, so returning NUMA node zero\n",
      "2023-01-03 12:12:16.459312: I tensorflow/stream_executor/cuda/cuda_gpu_executor.cc:937] successful NUMA node read from SysFS had negative value (-1), but there must be at least one NUMA node, so returning NUMA node zero\n",
      "2023-01-03 12:12:18.667209: I tensorflow/stream_executor/cuda/cuda_gpu_executor.cc:937] successful NUMA node read from SysFS had negative value (-1), but there must be at least one NUMA node, so returning NUMA node zero\n",
      "2023-01-03 12:12:18.668165: I tensorflow/stream_executor/cuda/cuda_gpu_executor.cc:937] successful NUMA node read from SysFS had negative value (-1), but there must be at least one NUMA node, so returning NUMA node zero\n",
      "2023-01-03 12:12:18.668884: I tensorflow/stream_executor/cuda/cuda_gpu_executor.cc:937] successful NUMA node read from SysFS had negative value (-1), but there must be at least one NUMA node, so returning NUMA node zero\n",
      "2023-01-03 12:12:18.669502: I tensorflow/core/common_runtime/gpu/gpu_device.cc:1510] Created device /job:localhost/replica:0/task:0/device:GPU:0 with 15401 MB memory:  -> device: 0, name: Tesla P100-PCIE-16GB, pci bus id: 0000:00:04.0, compute capability: 6.0\n"
     ]
    }
   ],
   "source": [
    "model = Sequential()\n",
    "# CNN 1\n",
    "model.add(Conv2D(32, kernel_size=(3, 3),activation='relu', input_shape=(28,28,1)))\n",
    "model.add(MaxPooling2D(pool_size=(2, 2)))\n",
    "\n",
    "model.add(Conv2D(64, kernel_size=(3, 3),activation='relu'))\n",
    "model.add(MaxPooling2D(pool_size=(2, 2)))\n",
    "\n",
    "model.add(Flatten())\n",
    "model.add(Dropout(0.5))\n",
    "model.add(Dense(128, activation='relu',input_shape=(257,)))\n",
    "model.add(Dropout(0.5))\n",
    "\n",
    "# Output\n",
    "model.add(Dense(10, activation=\"softmax\"))\n",
    "\n",
    "# Final model\n",
    "\n",
    "model.compile(loss='binary_crossentropy', optimizer='adam', metrics=['accuracy'])\n",
    "model.summary()"
   ]
  },
  {
   "cell_type": "code",
   "execution_count": 7,
   "id": "447797fa",
   "metadata": {
    "execution": {
     "iopub.execute_input": "2023-01-03T12:12:19.127214Z",
     "iopub.status.busy": "2023-01-03T12:12:19.125837Z",
     "iopub.status.idle": "2023-01-03T12:12:19.132811Z",
     "shell.execute_reply": "2023-01-03T12:12:19.131930Z"
    },
    "papermill": {
     "duration": 0.013716,
     "end_time": "2023-01-03T12:12:19.134549",
     "exception": false,
     "start_time": "2023-01-03T12:12:19.120833",
     "status": "completed"
    },
    "tags": []
   },
   "outputs": [],
   "source": [
    "import keras\n",
    "file_path = \"weights_best.hdf5\"\n",
    "checkpoint = keras.callbacks.ModelCheckpoint(file_path, monitor=\"val_accuracy\", save_best_only=True, mode='max')\n",
    "reduce_lr = keras.callbacks.ReduceLROnPlateau(monitor=\"val_accuracy\", factor=0.9, patience=2, min_lr=1e-6, mode=\"max\", verbose=True)\n",
    "early_stopping = keras.callbacks.EarlyStopping(monitor=\"val_accuracy\", patience=5, mode=\"max\", verbose=True)\n",
    "callbacks_list = [checkpoint, reduce_lr, early_stopping]"
   ]
  },
  {
   "cell_type": "code",
   "execution_count": 8,
   "id": "785fab5f",
   "metadata": {
    "execution": {
     "iopub.execute_input": "2023-01-03T12:12:19.144589Z",
     "iopub.status.busy": "2023-01-03T12:12:19.143210Z",
     "iopub.status.idle": "2023-01-03T12:13:01.064593Z",
     "shell.execute_reply": "2023-01-03T12:13:01.063628Z"
    },
    "papermill": {
     "duration": 41.928348,
     "end_time": "2023-01-03T12:13:01.066657",
     "exception": false,
     "start_time": "2023-01-03T12:12:19.138309",
     "status": "completed"
    },
    "tags": []
   },
   "outputs": [
    {
     "name": "stderr",
     "output_type": "stream",
     "text": [
      "2023-01-03 12:12:19.409689: I tensorflow/compiler/mlir/mlir_graph_optimization_pass.cc:185] None of the MLIR Optimization Passes are enabled (registered 2)\n"
     ]
    },
    {
     "name": "stdout",
     "output_type": "stream",
     "text": [
      "Epoch 1/100\n"
     ]
    },
    {
     "name": "stderr",
     "output_type": "stream",
     "text": [
      "2023-01-03 12:12:20.719268: I tensorflow/stream_executor/cuda/cuda_dnn.cc:369] Loaded cuDNN version 8005\n"
     ]
    },
    {
     "name": "stdout",
     "output_type": "stream",
     "text": [
      "269/269 [==============================] - 8s 5ms/step - loss: 0.5292 - accuracy: 0.8282 - val_loss: 0.1247 - val_accuracy: 0.9622\n",
      "Epoch 2/100\n",
      "269/269 [==============================] - 1s 4ms/step - loss: 0.1622 - accuracy: 0.9511 - val_loss: 0.0828 - val_accuracy: 0.9746\n",
      "Epoch 3/100\n",
      "269/269 [==============================] - 1s 4ms/step - loss: 0.1209 - accuracy: 0.9633 - val_loss: 0.0672 - val_accuracy: 0.9771\n",
      "Epoch 4/100\n",
      "269/269 [==============================] - 1s 4ms/step - loss: 0.1009 - accuracy: 0.9686 - val_loss: 0.0546 - val_accuracy: 0.9824\n",
      "Epoch 5/100\n",
      "269/269 [==============================] - 1s 5ms/step - loss: 0.0890 - accuracy: 0.9731 - val_loss: 0.0528 - val_accuracy: 0.9833\n",
      "Epoch 6/100\n",
      "269/269 [==============================] - 1s 4ms/step - loss: 0.0789 - accuracy: 0.9761 - val_loss: 0.0457 - val_accuracy: 0.9851\n",
      "Epoch 7/100\n",
      "269/269 [==============================] - 1s 4ms/step - loss: 0.0746 - accuracy: 0.9769 - val_loss: 0.0464 - val_accuracy: 0.9850\n",
      "Epoch 8/100\n",
      "269/269 [==============================] - 1s 4ms/step - loss: 0.0637 - accuracy: 0.9804 - val_loss: 0.0452 - val_accuracy: 0.9856\n",
      "Epoch 9/100\n",
      "269/269 [==============================] - 1s 4ms/step - loss: 0.0621 - accuracy: 0.9799 - val_loss: 0.0378 - val_accuracy: 0.9881\n",
      "Epoch 10/100\n",
      "269/269 [==============================] - 1s 4ms/step - loss: 0.0591 - accuracy: 0.9827 - val_loss: 0.0395 - val_accuracy: 0.9881\n",
      "Epoch 11/100\n",
      "269/269 [==============================] - 1s 4ms/step - loss: 0.0528 - accuracy: 0.9834 - val_loss: 0.0365 - val_accuracy: 0.9869\n",
      "\n",
      "Epoch 00011: ReduceLROnPlateau reducing learning rate to 0.0009000000427477062.\n",
      "Epoch 12/100\n",
      "269/269 [==============================] - 1s 4ms/step - loss: 0.0502 - accuracy: 0.9842 - val_loss: 0.0382 - val_accuracy: 0.9884\n",
      "Epoch 13/100\n",
      "269/269 [==============================] - 1s 4ms/step - loss: 0.0452 - accuracy: 0.9859 - val_loss: 0.0358 - val_accuracy: 0.9885\n",
      "Epoch 14/100\n",
      "269/269 [==============================] - 1s 4ms/step - loss: 0.0453 - accuracy: 0.9862 - val_loss: 0.0453 - val_accuracy: 0.9869\n",
      "Epoch 15/100\n",
      "269/269 [==============================] - 1s 4ms/step - loss: 0.0461 - accuracy: 0.9864 - val_loss: 0.0355 - val_accuracy: 0.9881\n",
      "\n",
      "Epoch 00015: ReduceLROnPlateau reducing learning rate to 0.0008100000384729356.\n",
      "Epoch 16/100\n",
      "269/269 [==============================] - 1s 4ms/step - loss: 0.0423 - accuracy: 0.9869 - val_loss: 0.0336 - val_accuracy: 0.9897\n",
      "Epoch 17/100\n",
      "269/269 [==============================] - 1s 4ms/step - loss: 0.0401 - accuracy: 0.9864 - val_loss: 0.0358 - val_accuracy: 0.9894\n",
      "Epoch 18/100\n",
      "269/269 [==============================] - 1s 4ms/step - loss: 0.0374 - accuracy: 0.9879 - val_loss: 0.0370 - val_accuracy: 0.9890\n",
      "\n",
      "Epoch 00018: ReduceLROnPlateau reducing learning rate to 0.0007290000503417104.\n",
      "Epoch 19/100\n",
      "269/269 [==============================] - 1s 4ms/step - loss: 0.0372 - accuracy: 0.9876 - val_loss: 0.0372 - val_accuracy: 0.9896\n",
      "Epoch 20/100\n",
      "269/269 [==============================] - 1s 4ms/step - loss: 0.0339 - accuracy: 0.9886 - val_loss: 0.0389 - val_accuracy: 0.9881\n",
      "\n",
      "Epoch 00020: ReduceLROnPlateau reducing learning rate to 0.0006561000715009868.\n",
      "Epoch 21/100\n",
      "269/269 [==============================] - 1s 4ms/step - loss: 0.0316 - accuracy: 0.9898 - val_loss: 0.0353 - val_accuracy: 0.9891\n",
      "Epoch 00021: early stopping\n"
     ]
    },
    {
     "data": {
      "text/plain": [
       "[<matplotlib.lines.Line2D at 0x7f3520301c10>]"
      ]
     },
     "execution_count": 8,
     "metadata": {},
     "output_type": "execute_result"
    },
    {
     "data": {
      "image/png": "[encoded data removed]",
      "text/plain": [
       "<Figure size 432x288 with 1 Axes>"
      ]
     },
     "metadata": {
      "needs_background": "light"
     },
     "output_type": "display_data"
    }
   ],
   "source": [
    "model.compile(optimizer='adam',loss='sparse_categorical_crossentropy',metrics=['accuracy'])\n",
    "history=model.fit(x_train,y_train,batch_size=100,epochs=100,verbose=True,validation_split=0.2,callbacks=callbacks_list)\n",
    "\n",
    "plt.plot(history.history['loss'])\n",
    "plt.plot(history.history['val_loss'])"
   ]
  },
  {
   "cell_type": "code",
   "execution_count": 9,
   "id": "b5fe3490",
   "metadata": {
    "execution": {
     "iopub.execute_input": "2023-01-03T12:13:01.117131Z",
     "iopub.status.busy": "2023-01-03T12:13:01.116149Z",
     "iopub.status.idle": "2023-01-03T12:13:01.211483Z",
     "shell.execute_reply": "2023-01-03T12:13:01.210510Z"
    },
    "papermill": {
     "duration": 0.123498,
     "end_time": "2023-01-03T12:13:01.214241",
     "exception": false,
     "start_time": "2023-01-03T12:13:01.090743",
     "status": "completed"
    },
    "tags": []
   },
   "outputs": [],
   "source": [
    "from tensorflow import keras\n",
    "model = keras.models.load_model('/kaggle/working/weights_best.hdf5')"
   ]
  },
  {
   "cell_type": "code",
   "execution_count": 10,
   "id": "e7dc653f",
   "metadata": {
    "execution": {
     "iopub.execute_input": "2023-01-03T12:13:01.272896Z",
     "iopub.status.busy": "2023-01-03T12:13:01.272429Z",
     "iopub.status.idle": "2023-01-03T12:13:02.224946Z",
     "shell.execute_reply": "2023-01-03T12:13:02.223323Z"
    },
    "papermill": {
     "duration": 0.985424,
     "end_time": "2023-01-03T12:13:02.227776",
     "exception": false,
     "start_time": "2023-01-03T12:13:01.242352",
     "status": "completed"
    },
    "tags": []
   },
   "outputs": [
    {
     "name": "stdout",
     "output_type": "stream",
     "text": [
      "263/263 [==============================] - 1s 3ms/step - loss: 0.0354 - accuracy: 0.9908\n",
      "0.035404521971940994\n",
      "0.9908333420753479\n"
     ]
    }
   ],
   "source": [
    "score=model.evaluate(x_test,y_test)\n",
    "print(score[0])\n",
    "print(score[1])"
   ]
  },
  {
   "cell_type": "code",
   "execution_count": 11,
   "id": "501228e4",
   "metadata": {
    "execution": {
     "iopub.execute_input": "2023-01-03T12:13:02.307243Z",
     "iopub.status.busy": "2023-01-03T12:13:02.306097Z",
     "iopub.status.idle": "2023-01-03T12:13:04.683292Z",
     "shell.execute_reply": "2023-01-03T12:13:04.682071Z"
    },
    "papermill": {
     "duration": 2.420286,
     "end_time": "2023-01-03T12:13:04.685876",
     "exception": false,
     "start_time": "2023-01-03T12:13:02.265590",
     "status": "completed"
    },
    "tags": []
   },
   "outputs": [
    {
     "name": "stdout",
     "output_type": "stream",
     "text": [
      "28000\n"
     ]
    }
   ],
   "source": [
    "test=pd.read_csv('/kaggle/input/digit-recognizer/test.csv')\n",
    "print(len(test))\n",
    "test.head()\n",
    "test=np.array(test/255.0)\n",
    "test=test.reshape(-1,28,28,1)"
   ]
  },
  {
   "cell_type": "code",
   "execution_count": 12,
   "id": "e280870c",
   "metadata": {
    "execution": {
     "iopub.execute_input": "2023-01-03T12:13:04.740807Z",
     "iopub.status.busy": "2023-01-03T12:13:04.740403Z",
     "iopub.status.idle": "2023-01-03T12:13:06.360062Z",
     "shell.execute_reply": "2023-01-03T12:13:06.359098Z"
    },
    "papermill": {
     "duration": 1.648435,
     "end_time": "2023-01-03T12:13:06.362209",
     "exception": false,
     "start_time": "2023-01-03T12:13:04.713774",
     "status": "completed"
    },
    "tags": []
   },
   "outputs": [
    {
     "data": {
      "text/plain": [
       "array([[2.49875121e-09, 5.33165734e-10, 9.99999404e-01, 4.63649656e-07,\n",
       "        9.66598242e-12, 2.81060948e-14, 2.84963958e-12, 7.15304367e-08,\n",
       "        2.56406452e-09, 7.60189897e-11],\n",
       "       [9.99997020e-01, 1.05035880e-12, 2.45084530e-09, 6.47535414e-10,\n",
       "        1.12441986e-10, 1.36658784e-07, 1.48675610e-06, 1.40170386e-07,\n",
       "        5.54266499e-08, 1.10175620e-06],\n",
       "       [5.51558313e-11, 2.22586435e-10, 8.08772569e-08, 1.45238616e-07,\n",
       "        2.32088241e-05, 1.50614827e-08, 1.31219645e-11, 8.36985407e-07,\n",
       "        3.84245914e-06, 9.99971867e-01],\n",
       "       [8.55690613e-03, 1.19359127e-08, 8.60830696e-05, 2.90225325e-05,\n",
       "        7.24804659e-06, 1.42338899e-06, 3.77227684e-06, 7.74250180e-03,\n",
       "        8.70986187e-05, 9.83485937e-01],\n",
       "       [1.09710692e-10, 2.96787078e-07, 3.14579265e-05, 9.99967337e-01,\n",
       "        7.44151407e-11, 2.59386423e-09, 7.99351280e-11, 5.43065646e-08,\n",
       "        8.25824998e-07, 8.22626234e-08]], dtype=float32)"
      ]
     },
     "execution_count": 12,
     "metadata": {},
     "output_type": "execute_result"
    }
   ],
   "source": [
    "pre=model.predict(test)\n",
    "pre[0:5]"
   ]
  },
  {
   "cell_type": "code",
   "execution_count": 13,
   "id": "87862afa",
   "metadata": {
    "execution": {
     "iopub.execute_input": "2023-01-03T12:13:06.415630Z",
     "iopub.status.busy": "2023-01-03T12:13:06.415241Z",
     "iopub.status.idle": "2023-01-03T12:13:06.422121Z",
     "shell.execute_reply": "2023-01-03T12:13:06.420843Z"
    },
    "papermill": {
     "duration": 0.036903,
     "end_time": "2023-01-03T12:13:06.424956",
     "exception": false,
     "start_time": "2023-01-03T12:13:06.388053",
     "status": "completed"
    },
    "tags": []
   },
   "outputs": [
    {
     "name": "stdout",
     "output_type": "stream",
     "text": [
      "[2 0 9 ... 3 9 2]\n"
     ]
    }
   ],
   "source": [
    "label=np.argmax(pre,axis=1)\n",
    "print(label)"
   ]
  },
  {
   "cell_type": "code",
   "execution_count": 14,
   "id": "959098de",
   "metadata": {
    "execution": {
     "iopub.execute_input": "2023-01-03T12:13:06.477791Z",
     "iopub.status.busy": "2023-01-03T12:13:06.477384Z",
     "iopub.status.idle": "2023-01-03T12:13:06.508874Z",
     "shell.execute_reply": "2023-01-03T12:13:06.507850Z"
    },
    "papermill": {
     "duration": 0.060721,
     "end_time": "2023-01-03T12:13:06.511409",
     "exception": false,
     "start_time": "2023-01-03T12:13:06.450688",
     "status": "completed"
    },
    "tags": []
   },
   "outputs": [],
   "source": [
    "submission = pd.DataFrame({'ImageId': np.arange(1, 28001), 'Label': label})\n",
    "submission.to_csv('/kaggle/working/submission.csv', index=False)"
   ]
  }
 ],
 "metadata": {
  "kernelspec": {
   "display_name": "Python 3",
   "language": "python",
   "name": "python3"
  },
  "language_info": {
   "codemirror_mode": {
    "name": "ipython",
    "version": 3
   },
   "file_extension": ".py",
   "mimetype": "text/x-python",
   "name": "python",
   "nbconvert_exporter": "python",
   "pygments_lexer": "ipython3",
   "version": "3.7.12"
  },
  "papermill": {
   "default_parameters": {},
   "duration": 72.425622,
   "end_time": "2023-01-03T12:13:09.830242",
   "environment_variables": {},
   "exception": null,
   "input_path": "__notebook__.ipynb",
   "output_path": "__notebook__.ipynb",
   "parameters": {},
   "start_time": "2023-01-03T12:11:57.404620",
   "version": "2.3.4"
  }
 },
 "nbformat": 4,
 "nbformat_minor": 5
}
